{
 "cells": [
  {
   "cell_type": "code",
   "execution_count": 1,
   "metadata": {},
   "outputs": [],
   "source": [
    "from db.artifacts import ingest_artifact\n",
    "import os\n",
    "import warnings\n",
    "warnings.filterwarnings(\"ignore\")"
   ]
  },
  {
   "cell_type": "code",
   "execution_count": 2,
   "metadata": {},
   "outputs": [],
   "source": [
    "test_dir = \"../tests/data/artifacts/\"\n",
    "\n",
    "# We need to make sure a few things are in the database before importing artifacts\n",
    "#Then we need a process and an analysis, so we'll make some\n",
    "p=Process.get_or_create(name=\"A New Process\").get()\n",
    "a=Analysis.get_or_create(name=\"A New Analysis\", process=p).get()"
   ]
  },
  {
   "cell_type": "code",
   "execution_count": null,
   "metadata": {
    "scrolled": false
   },
   "outputs": [
    {
     "name": "stdout",
     "output_type": "stream",
     "text": [
      "Ingesting 10000.unweighted_unifrac_pcoa_results.qza\n",
      "Ingesting weighted_unifrac_distance_matrix.qza\n",
      "Ingesting unweighted_unifrac_emperor.qzv\n"
     ]
    }
   ],
   "source": [
    "for file in os.listdir(test_dir):\n",
    "    print(\"Ingesting %s\" % (file,))\n",
    "    ingest_artifact(test_dir + file, a)"
   ]
  },
  {
   "cell_type": "code",
   "execution_count": null,
   "metadata": {},
   "outputs": [],
   "source": [
    "for feat in Feature.objects.all():\n",
    "    feat.annotations.add(*feat.values.filter(name=\"taxonomic_classification\"))"
   ]
  },
  {
   "cell_type": "code",
   "execution_count": null,
   "metadata": {},
   "outputs": [],
   "source": []
  }
 ],
 "metadata": {
  "kernelspec": {
   "display_name": "Django Shell-Plus",
   "language": "python",
   "name": "django_extensions"
  },
  "language_info": {
   "codemirror_mode": {
    "name": "ipython",
    "version": 3
   },
   "file_extension": ".py",
   "mimetype": "text/x-python",
   "name": "python",
   "nbconvert_exporter": "python",
   "pygments_lexer": "ipython3",
   "version": "3.7.0"
  }
 },
 "nbformat": 4,
 "nbformat_minor": 2
}
